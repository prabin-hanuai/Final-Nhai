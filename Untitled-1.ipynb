{
 "cells": [
  {
   "cell_type": "code",
   "execution_count": 12,
   "metadata": {},
   "outputs": [
    {
     "data": {
      "image/png": "[encoded data removed]",
      "text/plain": [
       "<Figure size 640x480 with 1 Axes>"
      ]
     },
     "metadata": {},
     "output_type": "display_data"
    }
   ],
   "source": [
    "import matplotlib.pyplot as plt\n",
    "import numpy as np\n",
    "\n",
    "# Data\n",
    "items = ['item1', 'item2', 'item3', 'item4', 'item5']\n",
    "month1_prices = [10, 15, 20, 25, 30]  # Replace with your data\n",
    "month2_prices = [12, 18, 22, 28, 35]  # Replace with your data\n",
    "\n",
    "# Bar width and positions\n",
    "bar_width = 0.35\n",
    "x = np.arange(len(items))  # Positions for the bars\n",
    "\n",
    "# Plotting the bars\n",
    "plt.bar(x - bar_width/2, month1_prices, width=bar_width, label='Month 1', color='skyblue')\n",
    "plt.bar(x + bar_width/2, month2_prices, width=bar_width, label='Month 2', color='salmon')\n",
    "\n",
    "# Adding labels and title\n",
    "plt.xlabel('Items')\n",
    "plt.ylabel('Prices')\n",
    "plt.title('Price Comparison of Items Over Two Months')\n",
    "plt.xticks(x, items)  # Set x-axis labels\n",
    "plt.legend()\n",
    "\n",
    "# Display the plot\n",
    "plt.tight_layout()\n",
    "plt.show()\n"
   ]
  },
  {
   "cell_type": "code",
   "execution_count": 1,
   "metadata": {},
   "outputs": [
    {
     "data": {
      "application/vnd.plotly.v1+json": {
       "config": {
        "plotlyServerURL": "https://plot.ly"
       },
       "data": [
        {
         "marker": {
          "color": "skyblue"
         },
         "name": "Month 1",
         "type": "bar",
         "x": [
          "item1",
          "item2",
          "item3",
          "item4",
          "item5"
         ],
         "y": [
          10,
          15,
          20,
          25,
          30
         ]
        },
        {
         "marker": {
          "color": "salmon"
         },
         "name": "Month 2",
         "type": "bar",
         "x": [
          "item1",
          "item2",
          "item3",
          "item4",
          "item5"
         ],
         "y": [
          12,
          18,
          22,
          28,
          35
         ]
        }
       ],
       "layout": {
        "barmode": "group",
        "legend": {
         "title": {
          "text": "Months"
         }
        },
        "template": {
         "data": {
          "bar": [
           {
            "error_x": {
             "color": "#2a3f5f"
            },
            "error_y": {
             "color": "#2a3f5f"
            },
            "marker": {
             "line": {
              "color": "#E5ECF6",
              "width": 0.5
             },
             "pattern": {
              "fillmode": "overlay",
              "size": 10,
              "solidity": 0.2
             }
            },
            "type": "bar"
           }
          ],
          "barpolar": [
           {
            "marker": {
             "line": {
              "color": "#E5ECF6",
              "width": 0.5
             },
             "pattern": {
              "fillmode": "overlay",
              "size": 10,
              "solidity": 0.2
             }
            },
            "type": "barpolar"
           }
          ],
          "carpet": [
           {
            "aaxis": {
             "endlinecolor": "#2a3f5f",
             "gridcolor": "white",
             "linecolor": "white",
             "minorgridcolor": "white",
             "startlinecolor": "#2a3f5f"
            },
            "baxis": {
             "endlinecolor": "#2a3f5f",
             "gridcolor": "white",
             "linecolor": "white",
             "minorgridcolor": "white",
             "startlinecolor": "#2a3f5f"
            },
            "type": "carpet"
           }
          ],
          "choropleth": [
           {
            "colorbar": {
             "outlinewidth": 0,
             "ticks": ""
            },
            "type": "choropleth"
           }
          ],
          "contour": [
           {
            "colorbar": {
             "outlinewidth": 0,
             "ticks": ""
            },
            "colorscale": [
             [
              0,
              "#0d0887"
             ],
             [
              0.1111111111111111,
              "#46039f"
             ],
             [
              0.2222222222222222,
              "#7201a8"
             ],
             [
              0.3333333333333333,
              "#9c179e"
             ],
             [
              0.4444444444444444,
              "#bd3786"
             ],
             [
              0.5555555555555556,
              "#d8576b"
             ],
             [
              0.6666666666666666,
              "#ed7953"
             ],
             [
              0.7777777777777778,
              "#fb9f3a"
             ],
             [
              0.8888888888888888,
              "#fdca26"
             ],
             [
              1,
              "#f0f921"
             ]
            ],
            "type": "contour"
           }
          ],
          "contourcarpet": [
           {
            "colorbar": {
             "outlinewidth": 0,
             "ticks": ""
            },
            "type": "contourcarpet"
           }
          ],
          "heatmap": [
           {
            "colorbar": {
             "outlinewidth": 0,
             "ticks": ""
            },
            "colorscale": [
             [
              0,
              "#0d0887"
             ],
             [
              0.1111111111111111,
              "#46039f"
             ],
             [
              0.2222222222222222,
              "#7201a8"
             ],
             [
              0.3333333333333333,
              "#9c179e"
             ],
             [
              0.4444444444444444,
              "#bd3786"
             ],
             [
              0.5555555555555556,
              "#d8576b"
             ],
             [
              0.6666666666666666,
              "#ed7953"
             ],
             [
              0.7777777777777778,
              "#fb9f3a"
             ],
             [
              0.8888888888888888,
              "#fdca26"
             ],
             [
              1,
              "#f0f921"
             ]
            ],
            "type": "heatmap"
           }
          ],
          "heatmapgl": [
           {
            "colorbar": {
             "outlinewidth": 0,
             "ticks": ""
            },
            "colorscale": [
             [
              0,
              "#0d0887"
             ],
             [
              0.1111111111111111,
              "#46039f"
             ],
             [
              0.2222222222222222,
              "#7201a8"
             ],
             [
              0.3333333333333333,
              "#9c179e"
             ],
             [
              0.4444444444444444,
              "#bd3786"
             ],
             [
              0.5555555555555556,
              "#d8576b"
             ],
             [
              0.6666666666666666,
              "#ed7953"
             ],
             [
              0.7777777777777778,
              "#fb9f3a"
             ],
             [
              0.8888888888888888,
              "#fdca26"
             ],
             [
              1,
              "#f0f921"
             ]
            ],
            "type": "heatmapgl"
           }
          ],
          "histogram": [
           {
            "marker": {
             "pattern": {
              "fillmode": "overlay",
              "size": 10,
              "solidity": 0.2
             }
            },
            "type": "histogram"
           }
          ],
          "histogram2d": [
           {
            "colorbar": {
             "outlinewidth": 0,
             "ticks": ""
            },
            "colorscale": [
             [
              0,
              "#0d0887"
             ],
             [
              0.1111111111111111,
              "#46039f"
             ],
             [
              0.2222222222222222,
              "#7201a8"
             ],
             [
              0.3333333333333333,
              "#9c179e"
             ],
             [
              0.4444444444444444,
              "#bd3786"
             ],
             [
              0.5555555555555556,
              "#d8576b"
             ],
             [
              0.6666666666666666,
              "#ed7953"
             ],
             [
              0.7777777777777778,
              "#fb9f3a"
             ],
             [
              0.8888888888888888,
              "#fdca26"
             ],
             [
              1,
              "#f0f921"
             ]
            ],
            "type": "histogram2d"
           }
          ],
          "histogram2dcontour": [
           {
            "colorbar": {
             "outlinewidth": 0,
             "ticks": ""
            },
            "colorscale": [
             [
              0,
              "#0d0887"
             ],
             [
              0.1111111111111111,
              "#46039f"
             ],
             [
              0.2222222222222222,
              "#7201a8"
             ],
             [
              0.3333333333333333,
              "#9c179e"
             ],
             [
              0.4444444444444444,
              "#bd3786"
             ],
             [
              0.5555555555555556,
              "#d8576b"
             ],
             [
              0.6666666666666666,
              "#ed7953"
             ],
             [
              0.7777777777777778,
              "#fb9f3a"
             ],
             [
              0.8888888888888888,
              "#fdca26"
             ],
             [
              1,
              "#f0f921"
             ]
            ],
            "type": "histogram2dcontour"
           }
          ],
          "mesh3d": [
           {
            "colorbar": {
             "outlinewidth": 0,
             "ticks": ""
            },
            "type": "mesh3d"
           }
          ],
          "parcoords": [
           {
            "line": {
             "colorbar": {
              "outlinewidth": 0,
              "ticks": ""
             }
            },
            "type": "parcoords"
           }
          ],
          "pie": [
           {
            "automargin": true,
            "type": "pie"
           }
          ],
          "scatter": [
           {
            "fillpattern": {
             "fillmode": "overlay",
             "size": 10,
             "solidity": 0.2
            },
            "type": "scatter"
           }
          ],
          "scatter3d": [
           {
            "line": {
             "colorbar": {
              "outlinewidth": 0,
              "ticks": ""
             }
            },
            "marker": {
             "colorbar": {
              "outlinewidth": 0,
              "ticks": ""
             }
            },
            "type": "scatter3d"
           }
          ],
          "scattercarpet": [
           {
            "marker": {
             "colorbar": {
              "outlinewidth": 0,
              "ticks": ""
             }
            },
            "type": "scattercarpet"
           }
          ],
          "scattergeo": [
           {
            "marker": {
             "colorbar": {
              "outlinewidth": 0,
              "ticks": ""
             }
            },
            "type": "scattergeo"
           }
          ],
          "scattergl": [
           {
            "marker": {
             "colorbar": {
              "outlinewidth": 0,
              "ticks": ""
             }
            },
            "type": "scattergl"
           }
          ],
          "scattermapbox": [
           {
            "marker": {
             "colorbar": {
              "outlinewidth": 0,
              "ticks": ""
             }
            },
            "type": "scattermapbox"
           }
          ],
          "scatterpolar": [
           {
            "marker": {
             "colorbar": {
              "outlinewidth": 0,
              "ticks": ""
             }
            },
            "type": "scatterpolar"
           }
          ],
          "scatterpolargl": [
           {
            "marker": {
             "colorbar": {
              "outlinewidth": 0,
              "ticks": ""
             }
            },
            "type": "scatterpolargl"
           }
          ],
          "scatterternary": [
           {
            "marker": {
             "colorbar": {
              "outlinewidth": 0,
              "ticks": ""
             }
            },
            "type": "scatterternary"
           }
          ],
          "surface": [
           {
            "colorbar": {
             "outlinewidth": 0,
             "ticks": ""
            },
            "colorscale": [
             [
              0,
              "#0d0887"
             ],
             [
              0.1111111111111111,
              "#46039f"
             ],
             [
              0.2222222222222222,
              "#7201a8"
             ],
             [
              0.3333333333333333,
              "#9c179e"
             ],
             [
              0.4444444444444444,
              "#bd3786"
             ],
             [
              0.5555555555555556,
              "#d8576b"
             ],
             [
              0.6666666666666666,
              "#ed7953"
             ],
             [
              0.7777777777777778,
              "#fb9f3a"
             ],
             [
              0.8888888888888888,
              "#fdca26"
             ],
             [
              1,
              "#f0f921"
             ]
            ],
            "type": "surface"
           }
          ],
          "table": [
           {
            "cells": {
             "fill": {
              "color": "#EBF0F8"
             },
             "line": {
              "color": "white"
             }
            },
            "header": {
             "fill": {
              "color": "#C8D4E3"
             },
             "line": {
              "color": "white"
             }
            },
            "type": "table"
           }
          ]
         },
         "layout": {
          "annotationdefaults": {
           "arrowcolor": "#2a3f5f",
           "arrowhead": 0,
           "arrowwidth": 1
          },
          "autotypenumbers": "strict",
          "coloraxis": {
           "colorbar": {
            "outlinewidth": 0,
            "ticks": ""
           }
          },
          "colorscale": {
           "diverging": [
            [
             0,
             "#8e0152"
            ],
            [
             0.1,
             "#c51b7d"
            ],
            [
             0.2,
             "#de77ae"
            ],
            [
             0.3,
             "#f1b6da"
            ],
            [
             0.4,
             "#fde0ef"
            ],
            [
             0.5,
             "#f7f7f7"
            ],
            [
             0.6,
             "#e6f5d0"
            ],
            [
             0.7,
             "#b8e186"
            ],
            [
             0.8,
             "#7fbc41"
            ],
            [
             0.9,
             "#4d9221"
            ],
            [
             1,
             "#276419"
            ]
           ],
           "sequential": [
            [
             0,
             "#0d0887"
            ],
            [
             0.1111111111111111,
             "#46039f"
            ],
            [
             0.2222222222222222,
             "#7201a8"
            ],
            [
             0.3333333333333333,
             "#9c179e"
            ],
            [
             0.4444444444444444,
             "#bd3786"
            ],
            [
             0.5555555555555556,
             "#d8576b"
            ],
            [
             0.6666666666666666,
             "#ed7953"
            ],
            [
             0.7777777777777778,
             "#fb9f3a"
            ],
            [
             0.8888888888888888,
             "#fdca26"
            ],
            [
             1,
             "#f0f921"
            ]
           ],
           "sequentialminus": [
            [
             0,
             "#0d0887"
            ],
            [
             0.1111111111111111,
             "#46039f"
            ],
            [
             0.2222222222222222,
             "#7201a8"
            ],
            [
             0.3333333333333333,
             "#9c179e"
            ],
            [
             0.4444444444444444,
             "#bd3786"
            ],
            [
             0.5555555555555556,
             "#d8576b"
            ],
            [
             0.6666666666666666,
             "#ed7953"
            ],
            [
             0.7777777777777778,
             "#fb9f3a"
            ],
            [
             0.8888888888888888,
             "#fdca26"
            ],
            [
             1,
             "#f0f921"
            ]
           ]
          },
          "colorway": [
           "#636efa",
           "#EF553B",
           "#00cc96",
           "#ab63fa",
           "#FFA15A",
           "#19d3f3",
           "#FF6692",
           "#B6E880",
           "#FF97FF",
           "#FECB52"
          ],
          "font": {
           "color": "#2a3f5f"
          },
          "geo": {
           "bgcolor": "white",
           "lakecolor": "white",
           "landcolor": "#E5ECF6",
           "showlakes": true,
           "showland": true,
           "subunitcolor": "white"
          },
          "hoverlabel": {
           "align": "left"
          },
          "hovermode": "closest",
          "mapbox": {
           "style": "light"
          },
          "paper_bgcolor": "white",
          "plot_bgcolor": "#E5ECF6",
          "polar": {
           "angularaxis": {
            "gridcolor": "white",
            "linecolor": "white",
            "ticks": ""
           },
           "bgcolor": "#E5ECF6",
           "radialaxis": {
            "gridcolor": "white",
            "linecolor": "white",
            "ticks": ""
           }
          },
          "scene": {
           "xaxis": {
            "backgroundcolor": "#E5ECF6",
            "gridcolor": "white",
            "gridwidth": 2,
            "linecolor": "white",
            "showbackground": true,
            "ticks": "",
            "zerolinecolor": "white"
           },
           "yaxis": {
            "backgroundcolor": "#E5ECF6",
            "gridcolor": "white",
            "gridwidth": 2,
            "linecolor": "white",
            "showbackground": true,
            "ticks": "",
            "zerolinecolor": "white"
           },
           "zaxis": {
            "backgroundcolor": "#E5ECF6",
            "gridcolor": "white",
            "gridwidth": 2,
            "linecolor": "white",
            "showbackground": true,
            "ticks": "",
            "zerolinecolor": "white"
           }
          },
          "shapedefaults": {
           "line": {
            "color": "#2a3f5f"
           }
          },
          "ternary": {
           "aaxis": {
            "gridcolor": "white",
            "linecolor": "white",
            "ticks": ""
           },
           "baxis": {
            "gridcolor": "white",
            "linecolor": "white",
            "ticks": ""
           },
           "bgcolor": "#E5ECF6",
           "caxis": {
            "gridcolor": "white",
            "linecolor": "white",
            "ticks": ""
           }
          },
          "title": {
           "x": 0.05
          },
          "xaxis": {
           "automargin": true,
           "gridcolor": "white",
           "linecolor": "white",
           "ticks": "",
           "title": {
            "standoff": 15
           },
           "zerolinecolor": "white",
           "zerolinewidth": 2
          },
          "yaxis": {
           "automargin": true,
           "gridcolor": "white",
           "linecolor": "white",
           "ticks": "",
           "title": {
            "standoff": 15
           },
           "zerolinecolor": "white",
           "zerolinewidth": 2
          }
         }
        },
        "title": {
         "text": "Price Comparison of Items Over Two Months"
        },
        "xaxis": {
         "title": {
          "text": "Items"
         }
        },
        "yaxis": {
         "title": {
          "text": "Prices"
         }
        }
       }
      }
     },
     "metadata": {},
     "output_type": "display_data"
    }
   ],
   "source": [
    "import plotly.graph_objects as go\n",
    "\n",
    "# Data\n",
    "items = ['item1', 'item2', 'item3', 'item4', 'item5']\n",
    "month1_prices = [10, 15, 20, 25, 30]  # Replace with your data\n",
    "month2_prices = [12, 18, 22, 28, 35]  # Replace with your data\n",
    "\n",
    "# Create the figure\n",
    "fig = go.Figure()\n",
    "\n",
    "# Add bars for Month 1\n",
    "fig.add_trace(go.Bar(\n",
    "    x=items,\n",
    "    y=month1_prices,\n",
    "    name='Month 1',\n",
    "    marker_color='skyblue'\n",
    "))\n",
    "\n",
    "# Add bars for Month 2\n",
    "fig.add_trace(go.Bar(\n",
    "    x=items,\n",
    "    y=month2_prices,\n",
    "    name='Month 2',\n",
    "    marker_color='salmon'\n",
    "))\n",
    "\n",
    "# Customize the layout\n",
    "fig.update_layout(\n",
    "    title='Price Comparison of Items Over Two Months',\n",
    "    xaxis_title='Items',\n",
    "    yaxis_title='Prices',\n",
    "    barmode='group',  # Group bars side-by-side\n",
    "    template='plotly',  # Optional: Change to 'plotly_dark' for a dark theme\n",
    "    legend=dict(title=\"Months\")\n",
    ")\n",
    "\n",
    "# Show the plot\n",
    "\n",
    "\n"
   ]
  },
  {
   "cell_type": "code",
   "execution_count": 2,
   "metadata": {},
   "outputs": [
    {
     "data": {
      "text/plain": [
       "True"
      ]
     },
     "execution_count": 2,
     "metadata": {},
     "output_type": "execute_result"
    }
   ],
   "source": [
    "import plotly.graph_objects as go\n",
    "import plotly.io as pio\n",
    "\n",
    "# Set renderer to browser\n",
    "pio.renderers.default = 'browser'\n",
    "\n",
    "# Data\n",
    "items = ['item1', 'item2', 'item3', 'item4', 'item5']\n",
    "month1_prices = [46, 23, 20, 25, 30]  # Previous month (peach color)\n",
    "month2_prices = [49, 18, 22, 28, 35]  # Current month (blue + surplus/shortfall color)\n",
    "\n",
    "# Calculate surplus/shortfall\n",
    "surplus_shortfall = [m2 - m1 for m1, m2 in zip(month1_prices, month2_prices)]\n",
    "surplus_colors = ['green' if diff > 0 else 'red' for diff in surplus_shortfall]\n",
    "\n",
    "# Create the figure\n",
    "fig = go.Figure()\n",
    "\n",
    "# Add bars for the previous month (peach color)\n",
    "fig.add_trace(go.Bar(\n",
    "    x=items,\n",
    "    y=month1_prices,\n",
    "    name='Previous Month',\n",
    "    marker_color='peachpuff',\n",
    "    offsetgroup=0  # Ensure it’s the base bar in the double bar chart\n",
    "))\n",
    "\n",
    "# Add bars for the current month (blue color up to the previous month's value)\n",
    "fig.add_trace(go.Bar(\n",
    "    x=items,\n",
    "    y=month1_prices,\n",
    "    name='Current Month (Base)',\n",
    "    marker_color='blue',\n",
    "    offsetgroup=1  # Separate group for this bar to make it a double bar\n",
    "))\n",
    "\n",
    "# Add surplus/shortfall (green/red) on top of the blue bar\n",
    "fig.add_trace(go.Bar(\n",
    "    x=items,\n",
    "    y=surplus_shortfall,\n",
    "    name='Surplus/Shortfall',\n",
    "    marker_color=surplus_colors,\n",
    "    base=month1_prices,  # Start the difference bar from the top of the blue bar\n",
    "    offsetgroup=1,  # Ensure it's in the same group as the current month\n",
    "    text=['+{}'.format(diff) if diff > 0 else str(diff) for diff in surplus_shortfall],\n",
    "    textposition='outside'\n",
    "))\n",
    "\n",
    "# Customize layout to ensure double+stacked display\n",
    "fig.update_layout(\n",
    "    title='Price Comparison with Surplus/Shortfall Highlighted',\n",
    "    xaxis_title='Items',\n",
    "    yaxis_title='Prices',\n",
    "    barmode='group',  # Group bars to make a double bar chart\n",
    "    legend=dict(title=\"Legend\"),\n",
    "    showlegend=True\n",
    ")\n",
    "\n",
    "# Show the plot\n",
    "\n",
    "fig.write_html(\"plot.html\")\n",
    "import webbrowser\n",
    "webbrowser.open(\"plot.html\")\n"
   ]
  },
  {
   "cell_type": "code",
   "execution_count": 5,
   "metadata": {},
   "outputs": [
    {
     "data": {
      "text/plain": [
       "True"
      ]
     },
     "execution_count": 5,
     "metadata": {},
     "output_type": "execute_result"
    }
   ],
   "source": [
    "import plotly.graph_objects as go\n",
    "import plotly.io as pio\n",
    "\n",
    "# Set renderer to browser\n",
    "pio.renderers.default = 'browser'\n",
    "\n",
    "# Data\n",
    "items = ['item1', 'item2', 'item3', 'item4', 'item5']\n",
    "month1_prices = [10, 23, 0, 25, 30]  # Previous month (peach color)\n",
    "month2_prices = [12, 18, 22, 0, 35]  # Current month (blue color)\n",
    "\n",
    "# Calculate surplus/shortfall\n",
    "surplus_shortfall = [m2 - m1 for m1, m2 in zip(month1_prices, month2_prices)]\n",
    "surplus_colors = ['green' if diff > 0 else 'red' for diff in surplus_shortfall]\n",
    "\n",
    "# Create the figure\n",
    "fig = go.Figure()\n",
    "\n",
    "# Add bars for the previous month (peach color)\n",
    "fig.add_trace(go.Bar(\n",
    "    x=items,\n",
    "    y=month1_prices,\n",
    "    name='Previous Month',\n",
    "    marker_color='peachpuff',\n",
    "    offsetgroup=0  # Group the previous month's bar\n",
    "))\n",
    "\n",
    "# Add bars for the current month (blue color)\n",
    "fig.add_trace(go.Bar(\n",
    "    x=items,\n",
    "    y=month2_prices,\n",
    "    name='Current Month',\n",
    "    marker_color='blue',\n",
    "    offsetgroup=1  # Group the current month's bar\n",
    "))\n",
    "\n",
    "# Add surplus/shortfall (green/red) on top of the appropriate bar\n",
    "fig.add_trace(go.Bar(\n",
    "    x=items,\n",
    "    y=[max(0, diff) for diff in surplus_shortfall],  # Surplus (only positive values)\n",
    "    name='Surplus',\n",
    "    marker_color='green',\n",
    "    base=month1_prices,  # Base for surplus is the previous month\n",
    "    offsetgroup=1,  # Stack on top of the larger bar (current month)\n",
    "    text=['+{}'.format(diff) if diff > 0 else '' for diff in surplus_shortfall],\n",
    "    textposition='inside'\n",
    "))\n",
    "\n",
    "fig.add_trace(go.Bar(\n",
    "    x=items,\n",
    "    y=[min(0, diff) for diff in surplus_shortfall],  # Shortfall (only negative values)\n",
    "    name='Shortfall',\n",
    "    marker_color='red',\n",
    "    base=month1_prices,  # Base for shortfall is the previous month\n",
    "    offsetgroup=0,  # Stack on top of the smaller bar (previous month)\n",
    "    text=['{}'.format(diff) if diff < 0 else '' for diff in surplus_shortfall],\n",
    "    textposition='inside'\n",
    "))\n",
    "\n",
    "# Customize layout to ensure double+stacked display\n",
    "fig.update_layout(\n",
    "    title='Price Comparison with Surplus/Shortfall Highlighted',\n",
    "    xaxis_title='Items',\n",
    "    yaxis_title='Prices',\n",
    "    barmode='group',  # Group bars to create a double bar chart\n",
    "    legend=dict(title=\"Legend\"),\n",
    "    showlegend=True\n",
    ")\n",
    "\n",
    "\n",
    "\n",
    "# Show the plot\n",
    "fig.write_html(\"plot.html\")\n",
    "import webbrowser\n",
    "webbrowser.open(\"plot.html\")"
   ]
  },
  {
   "cell_type": "code",
   "execution_count": 6,
   "metadata": {},
   "outputs": [
    {
     "ename": "AttributeError",
     "evalue": "unexpected attribute 'plot_height' to figure, similar attributes are outer_height, height or min_height",
     "output_type": "error",
     "traceback": [
      "\u001b[1;31m---------------------------------------------------------------------------\u001b[0m",
      "\u001b[1;31mAttributeError\u001b[0m                            Traceback (most recent call last)",
      "Cell \u001b[1;32mIn[6], line 18\u001b[0m\n\u001b[0;32m     11\u001b[0m source \u001b[38;5;241m=\u001b[39m ColumnDataSource(data\u001b[38;5;241m=\u001b[39m{\n\u001b[0;32m     12\u001b[0m     \u001b[38;5;124m'\u001b[39m\u001b[38;5;124mitems\u001b[39m\u001b[38;5;124m'\u001b[39m: items,\n\u001b[0;32m     13\u001b[0m     \u001b[38;5;124m'\u001b[39m\u001b[38;5;124mmonth1\u001b[39m\u001b[38;5;124m'\u001b[39m: month1_prices,\n\u001b[0;32m     14\u001b[0m     \u001b[38;5;124m'\u001b[39m\u001b[38;5;124mmonth2\u001b[39m\u001b[38;5;124m'\u001b[39m: month2_prices\n\u001b[0;32m     15\u001b[0m })\n\u001b[0;32m     17\u001b[0m \u001b[38;5;66;03m# Create the figure\u001b[39;00m\n\u001b[1;32m---> 18\u001b[0m p \u001b[38;5;241m=\u001b[39m \u001b[43mfigure\u001b[49m\u001b[43m(\u001b[49m\u001b[43mx_range\u001b[49m\u001b[38;5;241;43m=\u001b[39;49m\u001b[43mitems\u001b[49m\u001b[43m,\u001b[49m\u001b[43m \u001b[49m\u001b[43mtitle\u001b[49m\u001b[38;5;241;43m=\u001b[39;49m\u001b[38;5;124;43m\"\u001b[39;49m\u001b[38;5;124;43mPrice Comparison of Items Over Two Months\u001b[39;49m\u001b[38;5;124;43m\"\u001b[39;49m\u001b[43m,\u001b[49m\n\u001b[0;32m     19\u001b[0m \u001b[43m           \u001b[49m\u001b[43mx_axis_label\u001b[49m\u001b[38;5;241;43m=\u001b[39;49m\u001b[38;5;124;43m'\u001b[39;49m\u001b[38;5;124;43mItems\u001b[39;49m\u001b[38;5;124;43m'\u001b[39;49m\u001b[43m,\u001b[49m\u001b[43m \u001b[49m\u001b[43my_axis_label\u001b[49m\u001b[38;5;241;43m=\u001b[39;49m\u001b[38;5;124;43m'\u001b[39;49m\u001b[38;5;124;43mPrices\u001b[39;49m\u001b[38;5;124;43m'\u001b[39;49m\u001b[43m,\u001b[49m\u001b[43m \u001b[49m\n\u001b[0;32m     20\u001b[0m \u001b[43m           \u001b[49m\u001b[43mplot_height\u001b[49m\u001b[38;5;241;43m=\u001b[39;49m\u001b[38;5;241;43m400\u001b[39;49m\u001b[43m,\u001b[49m\u001b[43m \u001b[49m\u001b[43mplot_width\u001b[49m\u001b[38;5;241;43m=\u001b[39;49m\u001b[38;5;241;43m700\u001b[39;49m\u001b[43m,\u001b[49m\u001b[43m \u001b[49m\u001b[43mtools\u001b[49m\u001b[38;5;241;43m=\u001b[39;49m\u001b[38;5;124;43m\"\u001b[39;49m\u001b[38;5;124;43mpan,box_zoom,reset,save\u001b[39;49m\u001b[38;5;124;43m\"\u001b[39;49m\u001b[43m)\u001b[49m\n\u001b[0;32m     22\u001b[0m \u001b[38;5;66;03m# Add bars\u001b[39;00m\n\u001b[0;32m     23\u001b[0m bar_width \u001b[38;5;241m=\u001b[39m \u001b[38;5;241m0.4\u001b[39m\n",
      "File \u001b[1;32mc:\\Users\\HP\\AppData\\Local\\Programs\\Python\\Python312\\Lib\\site-packages\\bokeh\\plotting\\_figure.py:197\u001b[0m, in \u001b[0;36mfigure.__init__\u001b[1;34m(self, *arg, **kw)\u001b[0m\n\u001b[0;32m    195\u001b[0m \u001b[38;5;28;01mfor\u001b[39;00m name \u001b[38;5;129;01min\u001b[39;00m kw\u001b[38;5;241m.\u001b[39mkeys():\n\u001b[0;32m    196\u001b[0m     \u001b[38;5;28;01mif\u001b[39;00m name \u001b[38;5;129;01mnot\u001b[39;00m \u001b[38;5;129;01min\u001b[39;00m names:\n\u001b[1;32m--> 197\u001b[0m         \u001b[38;5;28;43mself\u001b[39;49m\u001b[38;5;241;43m.\u001b[39;49m\u001b[43m_raise_attribute_error_with_matches\u001b[49m\u001b[43m(\u001b[49m\u001b[43mname\u001b[49m\u001b[43m,\u001b[49m\u001b[43m \u001b[49m\u001b[43mnames\u001b[49m\u001b[43m \u001b[49m\u001b[38;5;241;43m|\u001b[39;49m\u001b[43m \u001b[49m\u001b[43mopts\u001b[49m\u001b[38;5;241;43m.\u001b[39;49m\u001b[43mproperties\u001b[49m\u001b[43m(\u001b[49m\u001b[43m)\u001b[49m\u001b[43m)\u001b[49m\n\u001b[0;32m    199\u001b[0m \u001b[38;5;28msuper\u001b[39m()\u001b[38;5;241m.\u001b[39m\u001b[38;5;21m__init__\u001b[39m(\u001b[38;5;241m*\u001b[39marg, \u001b[38;5;241m*\u001b[39m\u001b[38;5;241m*\u001b[39mkw)\n\u001b[0;32m    201\u001b[0m \u001b[38;5;28mself\u001b[39m\u001b[38;5;241m.\u001b[39mx_range \u001b[38;5;241m=\u001b[39m get_range(opts\u001b[38;5;241m.\u001b[39mx_range)\n",
      "File \u001b[1;32mc:\\Users\\HP\\AppData\\Local\\Programs\\Python\\Python312\\Lib\\site-packages\\bokeh\\core\\has_props.py:377\u001b[0m, in \u001b[0;36mHasProps._raise_attribute_error_with_matches\u001b[1;34m(self, name, properties)\u001b[0m\n\u001b[0;32m    374\u001b[0m \u001b[38;5;28;01mif\u001b[39;00m \u001b[38;5;129;01mnot\u001b[39;00m matches:\n\u001b[0;32m    375\u001b[0m     matches, text \u001b[38;5;241m=\u001b[39m \u001b[38;5;28msorted\u001b[39m(properties), \u001b[38;5;124m\"\u001b[39m\u001b[38;5;124mpossible\u001b[39m\u001b[38;5;124m\"\u001b[39m\n\u001b[1;32m--> 377\u001b[0m \u001b[38;5;28;01mraise\u001b[39;00m \u001b[38;5;167;01mAttributeError\u001b[39;00m(\u001b[38;5;124mf\u001b[39m\u001b[38;5;124m\"\u001b[39m\u001b[38;5;124munexpected attribute \u001b[39m\u001b[38;5;132;01m{\u001b[39;00mname\u001b[38;5;132;01m!r}\u001b[39;00m\u001b[38;5;124m to \u001b[39m\u001b[38;5;132;01m{\u001b[39;00m\u001b[38;5;28mself\u001b[39m\u001b[38;5;241m.\u001b[39m\u001b[38;5;18m__class__\u001b[39m\u001b[38;5;241m.\u001b[39m\u001b[38;5;18m__name__\u001b[39m\u001b[38;5;132;01m}\u001b[39;00m\u001b[38;5;124m, \u001b[39m\u001b[38;5;132;01m{\u001b[39;00mtext\u001b[38;5;132;01m}\u001b[39;00m\u001b[38;5;124m attributes are \u001b[39m\u001b[38;5;132;01m{\u001b[39;00mnice_join(matches)\u001b[38;5;132;01m}\u001b[39;00m\u001b[38;5;124m\"\u001b[39m)\n",
      "\u001b[1;31mAttributeError\u001b[0m: unexpected attribute 'plot_height' to figure, similar attributes are outer_height, height or min_height"
     ]
    }
   ],
   "source": [
    "from bokeh.plotting import figure, show\n",
    "from bokeh.models import ColumnDataSource\n",
    "from bokeh.io import output_notebook\n",
    "\n",
    "# Data\n",
    "items = ['item1', 'item2', 'item3', 'item4', 'item5']\n",
    "month1_prices = [10, 23, 20, 25, 30]  # Replace with your data\n",
    "month2_prices = [12, 18, 22, 28, 35]  # Replace with your data\n",
    "\n",
    "# Prepare data for Bokeh\n",
    "source = ColumnDataSource(data={\n",
    "    'items': items,\n",
    "    'month1': month1_prices,\n",
    "    'month2': month2_prices\n",
    "})\n",
    "\n",
    "# Create the figure\n",
    "p = figure(x_range=items, title=\"Price Comparison of Items Over Two Months\",\n",
    "           x_axis_label='Items', y_axis_label='Prices', \n",
    "           plot_height=400, plot_width=700, tools=\"pan,box_zoom,reset,save\")\n",
    "\n",
    "# Add bars\n",
    "bar_width = 0.4\n",
    "p.vbar(x='items', top='month1', width=bar_width, source=source, color='skyblue', legend_label='Month 1', offset=-0.2)\n",
    "p.vbar(x='items', top='month2', width=bar_width, source=source, color='salmon', legend_label='Month 2', offset=0.2)\n",
    "\n",
    "# Customize appearance\n",
    "p.legend.title = 'Months'\n",
    "p.legend.location = 'top_left'\n",
    "p.legend.orientation = 'horizontal'\n",
    "p.xgrid.grid_line_color = None\n",
    "\n",
    "# Show the plot in a notebook or browser\n",
    "output_notebook()  # Use this if you're in a Jupyter Notebook\n",
    "show(p)\n"
   ]
  },
  {
   "cell_type": "code",
   "execution_count": 10,
   "metadata": {},
   "outputs": [],
   "source": [
    "import plotly.graph_objects as go\n",
    "import plotly.io as pio\n",
    "\n",
    "# Set the renderer to browser\n",
    "pio.renderers.default = 'browser'\n",
    "\n",
    "# Data\n",
    "items = ['item1', 'item2', 'item3', 'item4', 'item5']\n",
    "month1_prices = [10, 15, 20, 25, 30]\n",
    "month2_prices = [12, 18, 22, 28, 35]\n",
    "\n",
    "# Create the figure\n",
    "fig = go.Figure()\n",
    "\n",
    "# Add bars for Month 1\n",
    "fig.add_trace(go.Bar(\n",
    "    x=items,\n",
    "    y=month1_prices,\n",
    "    name='Month 1',\n",
    "    marker_color='skyblue'\n",
    "))\n",
    "\n",
    "# Add bars for Month 2\n",
    "fig.add_trace(go.Bar(\n",
    "    x=items,\n",
    "    y=month2_prices,\n",
    "    name='Month 2',\n",
    "    marker_color='salmon'\n",
    "))\n",
    "\n",
    "# Customize the layout\n",
    "fig.update_layout(\n",
    "    title='Price Comparison of Items Over Two Months',\n",
    "    xaxis_title='Items',\n",
    "    yaxis_title='Prices',\n",
    "    barmode='group',\n",
    "    legend=dict(title=\"Months\")\n",
    ")\n",
    "\n",
    "# Show the plot in your default web browser\n",
    "fig.show()\n"
   ]
  },
  {
   "cell_type": "code",
   "execution_count": 14,
   "metadata": {},
   "outputs": [
    {
     "name": "stdout",
     "output_type": "stream",
     "text": [
      "Renderers configuration\n",
      "-----------------------\n",
      "    Default renderer: 'browser'\n",
      "    Available renderers:\n",
      "        ['plotly_mimetype', 'jupyterlab', 'nteract', 'vscode',\n",
      "         'notebook', 'notebook_connected', 'kaggle', 'azure', 'colab',\n",
      "         'cocalc', 'databricks', 'json', 'png', 'jpeg', 'jpg', 'svg',\n",
      "         'pdf', 'browser', 'firefox', 'chrome', 'chromium', 'iframe',\n",
      "         'iframe_connected', 'sphinx_gallery', 'sphinx_gallery_png']\n",
      "\n"
     ]
    }
   ],
   "source": [
    "import plotly.io as pio\n",
    "\n",
    "print(pio.renderers)\n"
   ]
  },
  {
   "cell_type": "code",
   "execution_count": null,
   "metadata": {},
   "outputs": [],
   "source": []
  }
 ],
 "metadata": {
  "kernelspec": {
   "display_name": "Python 3",
   "language": "python",
   "name": "python3"
  },
  "language_info": {
   "codemirror_mode": {
    "name": "ipython",
    "version": 3
   },
   "file_extension": ".py",
   "mimetype": "text/x-python",
   "name": "python",
   "nbconvert_exporter": "python",
   "pygments_lexer": "ipython3",
   "version": "3.10.12"
  }
 },
 "nbformat": 4,
 "nbformat_minor": 2
}
